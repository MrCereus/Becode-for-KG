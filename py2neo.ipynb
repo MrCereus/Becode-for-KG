{
 "cells": [
  {
   "cell_type": "code",
   "execution_count": 1,
   "metadata": {},
   "outputs": [],
   "source": [
    "import py2neo\n",
    "import pandas as pd\n",
    "from backend_utils import *"
   ]
  },
  {
   "cell_type": "code",
   "execution_count": 2,
   "metadata": {},
   "outputs": [],
   "source": [
    "data_loc = \"./data/\"\n",
    "gwea = GWEA(data=EAData(loc=data_loc))"
   ]
  },
  {
   "cell_type": "code",
   "execution_count": 3,
   "metadata": {},
   "outputs": [
    {
     "data": {
      "text/plain": [
       "70414"
      ]
     },
     "execution_count": 3,
     "metadata": {},
     "output_type": "execute_result"
    }
   ],
   "source": [
    "len(gwea.data.kg[0].rels)"
   ]
  },
  {
   "cell_type": "code",
   "execution_count": 10,
   "metadata": {},
   "outputs": [
    {
     "data": {
      "text/plain": [
       "38960"
      ]
     },
     "execution_count": 10,
     "metadata": {},
     "output_type": "execute_result"
    }
   ],
   "source": [
    "# 获取所有节点\n",
    "'''\n",
    "tx = graph.begin()\n",
    "nodes = {}\n",
    "for i in range(10):\n",
    "    node = py2neo.Node(\"ZH\", id = i, name = f\"Test{str(i)}\")\n",
    "    nodes[f\"Test{str(i)}\"] = node\n",
    "'''\n",
    "nodes = {}\n",
    "for rel in gwea.data.kg[0].rels:\n",
    "    if rel[0] not in nodes.keys():\n",
    "        nodes[rel[0]] = py2neo.Node('ZH', id = rel[0], name = gwea.data.kg[0].ent_ids[rel[0]])\n",
    "    if rel[2] not in nodes.keys():\n",
    "        nodes[rel[2]] = py2neo.Node('ZH', id = rel[2], name = gwea.data.kg[0].ent_ids[rel[2]])\n",
    "for rel in gwea.data.kg[1].rels:\n",
    "    if rel[0] not in nodes.keys():\n",
    "        nodes[rel[0]] = py2neo.Node('EN', id = rel[0], name = gwea.data.kg[1].ent_ids[rel[0]])\n",
    "    if rel[2] not in nodes.keys():\n",
    "        nodes[rel[2]] = py2neo.Node('EN', id = rel[2], name = gwea.data.kg[1].ent_ids[rel[2]])\n",
    "len(nodes)\n"
   ]
  },
  {
   "cell_type": "code",
   "execution_count": 16,
   "metadata": {},
   "outputs": [
    {
     "data": {
      "text/plain": [
       "165556"
      ]
     },
     "execution_count": 16,
     "metadata": {},
     "output_type": "execute_result"
    }
   ],
   "source": [
    "# 获取所有边\n",
    "''' \n",
    "rels = []\n",
    "for i in range(9):\n",
    "    if f\"Test{str(i)}\" in nodes.keys() and f\"Test{str(i+1)}\" in nodes.keys():\n",
    "        rel = py2neo.Relationship(nodes[f\"Test{str(i)}\"], \"TestRel\", nodes[f\"Test{str(i+1)}\"])\n",
    "        rels.append(rel)\n",
    "'''\n",
    "rels = []\n",
    "for rel in gwea.data.kg[0].rels:\n",
    "    if rel[0] in nodes.keys() and rel[2] in nodes.keys():\n",
    "        new_rel = py2neo.Relationship(nodes[rel[0]], gwea.data.kg[0].rel_ids[rel[1]], nodes[rel[2]])\n",
    "        rels.append(new_rel)\n",
    "for rel in gwea.data.kg[1].rels:\n",
    "    if rel[0] in nodes.keys() and rel[2] in nodes.keys():\n",
    "        new_rel = py2neo.Relationship(nodes[rel[0]], gwea.data.kg[1].rel_ids[rel[1]], nodes[rel[2]])\n",
    "        rels.append(new_rel)\n",
    "len(rels)"
   ]
  },
  {
   "cell_type": "code",
   "execution_count": 18,
   "metadata": {},
   "outputs": [
    {
     "data": {
      "text/plain": [
       "165556"
      ]
     },
     "execution_count": 18,
     "metadata": {},
     "output_type": "execute_result"
    }
   ],
   "source": [
    "len(rels)"
   ]
  },
  {
   "cell_type": "code",
   "execution_count": 19,
   "metadata": {},
   "outputs": [],
   "source": [
    "url = \"http://127.0.0.1:7474\"\n",
    "username = \"neo4j\"\n",
    "password = \"kgdemo\"\n",
    "graph = py2neo.Graph(url, auth=(username, password))"
   ]
  },
  {
   "cell_type": "code",
   "execution_count": 20,
   "metadata": {},
   "outputs": [],
   "source": [
    "def clear_database():\n",
    "    cypher = \"match (n) detach delete n\"\n",
    "    graph.run(cypher)"
   ]
  },
  {
   "cell_type": "code",
   "execution_count": 21,
   "metadata": {},
   "outputs": [],
   "source": [
    "clear_database()"
   ]
  },
  {
   "cell_type": "code",
   "execution_count": null,
   "metadata": {},
   "outputs": [],
   "source": [
    "tx = graph.begin()\n",
    "sub = py2neo.Subgraph(list(nodes.values()),rels)\n",
    "tx.create(sub)\n",
    "graph.commit(tx)"
   ]
  },
  {
   "cell_type": "code",
   "execution_count": 23,
   "metadata": {},
   "outputs": [
    {
     "data": {
      "text/html": [
       "<table><tr><th>n</th></tr><tr><td style=\"text-align:left\">{name: &#039;Zhou Qiang&#039;, id: 38316}</td></tr><tr><td style=\"text-align:left\">{name: &#039;Kuybyshev Reservoir&#039;, id: 10624}</td></tr><tr><td style=\"text-align:left\">{name: &#039;The Game (rapper)&#039;, id: 36019}</td></tr></table>"
      ],
      "text/plain": [
       " n                                                \n",
       "--------------------------------------------------\n",
       " (_0:EN {id: 38316, name: 'Zhou Qiang'})          \n",
       " (_1:EN {id: 10624, name: 'Kuybyshev Reservoir'}) \n",
       " (_2:EN {id: 36019, name: 'The Game (rapper)'})   "
      ]
     },
     "execution_count": 23,
     "metadata": {},
     "output_type": "execute_result"
    }
   ],
   "source": [
    "cypher = \"match (n) return n limit 25\"\n",
    "graph.run(cypher)"
   ]
  }
 ],
 "metadata": {
  "kernelspec": {
   "display_name": "selfkg",
   "language": "python",
   "name": "python3"
  },
  "language_info": {
   "codemirror_mode": {
    "name": "ipython",
    "version": 3
   },
   "file_extension": ".py",
   "mimetype": "text/x-python",
   "name": "python",
   "nbconvert_exporter": "python",
   "pygments_lexer": "ipython3",
   "version": "3.7.16"
  }
 },
 "nbformat": 4,
 "nbformat_minor": 2
}
