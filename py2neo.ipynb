{
 "cells": [
  {
   "cell_type": "code",
   "execution_count": 1,
   "metadata": {},
   "outputs": [],
   "source": [
    "import py2neo\n",
    "import pandas as pd\n",
    "from backend_utils import *"
   ]
  },
  {
   "cell_type": "code",
   "execution_count": 2,
   "metadata": {},
   "outputs": [],
   "source": [
    "data_loc = \"./data/\"\n",
    "gwea = GWEA(data=EAData(loc=data_loc))"
   ]
  },
  {
   "cell_type": "code",
   "execution_count": 3,
   "metadata": {},
   "outputs": [
    {
     "data": {
      "text/plain": [
       "70414"
      ]
     },
     "execution_count": 3,
     "metadata": {},
     "output_type": "execute_result"
    }
   ],
   "source": [
    "len(gwea.data.kg[0].rels)"
   ]
  },
  {
   "cell_type": "code",
   "execution_count": 10,
   "metadata": {},
   "outputs": [
    {
     "data": {
      "text/plain": [
       "38960"
      ]
     },
     "execution_count": 10,
     "metadata": {},
     "output_type": "execute_result"
    }
   ],
   "source": [
    "# 获取所有节点\n",
    "'''\n",
    "tx = graph.begin()\n",
    "nodes = {}\n",
    "for i in range(10):\n",
    "    node = py2neo.Node(\"ZH\", id = i, name = f\"Test{str(i)}\")\n",
    "    nodes[f\"Test{str(i)}\"] = node\n",
    "'''\n",
    "nodes = {}\n",
    "for rel in gwea.data.kg[0].rels:\n",
    "    if rel[0] not in nodes.keys():\n",
    "        nodes[rel[0]] = py2neo.Node('ZH', id = rel[0], name = gwea.data.kg[0].ent_ids[rel[0]])\n",
    "    if rel[2] not in nodes.keys():\n",
    "        nodes[rel[2]] = py2neo.Node('ZH', id = rel[2], name = gwea.data.kg[0].ent_ids[rel[2]])\n",
    "for rel in gwea.data.kg[1].rels:\n",
    "    if rel[0] not in nodes.keys():\n",
    "        nodes[rel[0]] = py2neo.Node('EN', id = rel[0], name = gwea.data.kg[1].ent_ids[rel[0]])\n",
    "    if rel[2] not in nodes.keys():\n",
    "        nodes[rel[2]] = py2neo.Node('EN', id = rel[2], name = gwea.data.kg[1].ent_ids[rel[2]])\n",
    "len(nodes)\n"
   ]
  },
  {
   "cell_type": "code",
   "execution_count": 16,
   "metadata": {},
   "outputs": [
    {
     "data": {
      "text/plain": [
       "165556"
      ]
     },
     "execution_count": 16,
     "metadata": {},
     "output_type": "execute_result"
    }
   ],
   "source": [
    "# 获取所有边\n",
    "''' \n",
    "rels = []\n",
    "for i in range(9):\n",
    "    if f\"Test{str(i)}\" in nodes.keys() and f\"Test{str(i+1)}\" in nodes.keys():\n",
    "        rel = py2neo.Relationship(nodes[f\"Test{str(i)}\"], \"TestRel\", nodes[f\"Test{str(i+1)}\"])\n",
    "        rels.append(rel)\n",
    "'''\n",
    "rels = []\n",
    "for rel in gwea.data.kg[0].rels:\n",
    "    if rel[0] in nodes.keys() and rel[2] in nodes.keys():\n",
    "        new_rel = py2neo.Relationship(nodes[rel[0]], gwea.data.kg[0].rel_ids[rel[1]], nodes[rel[2]])\n",
    "        rels.append(new_rel)\n",
    "for rel in gwea.data.kg[1].rels:\n",
    "    if rel[0] in nodes.keys() and rel[2] in nodes.keys():\n",
    "        new_rel = py2neo.Relationship(nodes[rel[0]], gwea.data.kg[1].rel_ids[rel[1]], nodes[rel[2]])\n",
    "        rels.append(new_rel)\n",
    "len(rels)"
   ]
  },
  {
   "cell_type": "code",
   "execution_count": 18,
   "metadata": {},
   "outputs": [
    {
     "data": {
      "text/plain": [
       "165556"
      ]
     },
     "execution_count": 18,
     "metadata": {},
     "output_type": "execute_result"
    }
   ],
   "source": [
    "len(rels)"
   ]
  },
  {
   "cell_type": "code",
   "execution_count": 19,
   "metadata": {},
   "outputs": [],
   "source": [
    "url = \"http://127.0.0.1:7474\"\n",
    "username = \"neo4j\"\n",
    "password = \"kgdemo\"\n",
    "graph = py2neo.Graph(url, auth=(username, password))"
   ]
  },
  {
   "cell_type": "code",
   "execution_count": 20,
   "metadata": {},
   "outputs": [],
   "source": [
    "def clear_database():\n",
    "    cypher = \"match (n) detach delete n\"\n",
    "    graph.run(cypher)"
   ]
  },
  {
   "cell_type": "code",
   "execution_count": 21,
   "metadata": {},
   "outputs": [],
   "source": [
    "clear_database()"
   ]
  },
  {
   "cell_type": "code",
   "execution_count": null,
   "metadata": {},
   "outputs": [],
   "source": [
    "tx = graph.begin()\n",
    "sub = py2neo.Subgraph(list(nodes.values()),rels)\n",
    "tx.create(sub)\n",
    "graph.commit(tx)"
   ]
  },
  {
   "cell_type": "code",
   "execution_count": 25,
   "metadata": {},
   "outputs": [],
   "source": [
    "cypher = \"match (n) return n limit 25\"\n",
    "df = graph.run(cypher).to_data_frame()"
   ]
  },
  {
   "cell_type": "code",
   "execution_count": 34,
   "metadata": {},
   "outputs": [
    {
     "data": {
      "text/plain": [
       "'Zhou Qiang'"
      ]
     },
     "execution_count": 34,
     "metadata": {},
     "output_type": "execute_result"
    }
   ],
   "source": [
    "df['n'].iloc[0]['name']"
   ]
  },
  {
   "cell_type": "code",
   "execution_count": 52,
   "metadata": {},
   "outputs": [
    {
     "data": {
      "text/plain": [
       "{'nodes': [{'id': 10500, 'name': 'Abdullah Gül'},\n",
       "  {'id': 13972, 'name': 'University of Exeter'},\n",
       "  {'id': 10903, 'name': 'Bülent Ecevit'},\n",
       "  {'id': 16941, 'name': 'Istanbul University'},\n",
       "  {'id': 20308, 'name': 'Turkey'},\n",
       "  {'id': 19238, 'name': 'Recep Tayyip Erdoğan'},\n",
       "  {'id': 12009, 'name': 'Grand National Assembly of Turkey'}],\n",
       " 'edges': [{'source': 10500, 'target': 13972, 'rels': ['almaMater']},\n",
       "  {'source': 10500, 'target': 10903, 'rels': ['predecessor']},\n",
       "  {'source': 10500, 'target': 16941, 'rels': ['almaMater']},\n",
       "  {'source': 10500, 'target': 20308, 'rels': ['birthPlace']},\n",
       "  {'source': 10500, 'target': 19238, 'rels': ['successor', 'primeminister']},\n",
       "  {'source': 10500, 'target': 12009, 'rels': ['office']},\n",
       "  {'source': 10903, 'target': 20308, 'rels': ['birthPlace', 'deathPlace']},\n",
       "  {'source': 10903, 'target': 10500, 'rels': ['after', 'successor']},\n",
       "  {'source': 10903, 'target': 12009, 'rels': ['office']},\n",
       "  {'source': 16941, 'target': 20308, 'rels': ['country']},\n",
       "  {'source': 20308, 'target': 19238, 'rels': ['caption', 'leaderName']},\n",
       "  {'source': 20308, 'target': 12009, 'rels': ['legislature']},\n",
       "  {'source': 19238, 'target': 20308, 'rels': ['birthPlace']},\n",
       "  {'source': 19238,\n",
       "   'target': 10500,\n",
       "   'rels': ['before', 'president', 'predecessor']},\n",
       "  {'source': 12009, 'target': 20308, 'rels': ['meetingPlace']}]}"
      ]
     },
     "execution_count": 52,
     "metadata": {},
     "output_type": "execute_result"
    }
   ],
   "source": [
    "def get_force_graph_data(graph, id1, id2):\n",
    "    def get_subgraph(graph, id):\n",
    "            cypher = f'''\n",
    "                MATCH (n) where n.id={id} \\\n",
    "                CALL apoc.path.subgraphAll(n, {{\\\n",
    "                    maxLevel: 1\\\n",
    "                }}) \\\n",
    "                YIELD relationships \\\n",
    "                unwind relationships as r_ WITH DISTINCT r_ \\\n",
    "                return type(r_) as r_name, id(r_) as r_id, \\\n",
    "                startNode(r_).id as x_id, startNode(r_).name as x_name, \\\n",
    "                endNode(r_).id as y_id, endNode(r_).name as y_name, \\\n",
    "                labels(startNode(r_)) as x_labels, labels(endNode(r_)) as y_labels\n",
    "            '''\n",
    "            df = graph.run(cypher).to_data_frame()\n",
    "            rel_list = df.values.tolist()\n",
    "            nodes = {}\n",
    "            edges = {}\n",
    "            for rel in rel_list:\n",
    "                if rel[2] not in nodes.keys():\n",
    "                    nodes[rel[2]] = rel[3]\n",
    "                if rel[4] not in nodes.keys():\n",
    "                    nodes[rel[4]] = rel[5]\n",
    "                if tuple([rel[2], rel[4]]) not in edges.keys():\n",
    "                    edges[tuple([rel[2], rel[4]])] = [rel[0]]\n",
    "                else:\n",
    "                    edges[tuple([rel[2], rel[4]])].append(rel[0])\n",
    "            res = {\n",
    "                \"nodes\":[],\n",
    "                \"edges\":[]\n",
    "            }\n",
    "            for key, value in nodes.items():\n",
    "                res[\"nodes\"].append({\n",
    "                    \"id\" : key,\n",
    "                    \"name\": value\n",
    "                })\n",
    "            for key, value in edges.items():\n",
    "                res[\"edges\"].append({\n",
    "                    \"source\" : key[0],\n",
    "                    \"target\": key[1],\n",
    "                    \"rels\" : value\n",
    "                })\n",
    "            return res\n",
    "    return [get_subgraph(graph,id1),get_subgraph(graph, id2)]\n",
    "get_force_graph_data(graph, 0, 10500)"
   ]
  },
  {
   "cell_type": "code",
   "execution_count": 43,
   "metadata": {},
   "outputs": [
    {
     "data": {
      "text/plain": [
       "['almaMater',\n",
       " 109193,\n",
       " 10500,\n",
       " 'Abdullah Gül',\n",
       " 13972,\n",
       " 'University of Exeter',\n",
       " ['EN'],\n",
       " ['EN']]"
      ]
     },
     "execution_count": 43,
     "metadata": {},
     "output_type": "execute_result"
    }
   ],
   "source": [
    "rel_list = df.values.tolist()\n",
    "rel_list[0]"
   ]
  },
  {
   "cell_type": "code",
   "execution_count": 44,
   "metadata": {},
   "outputs": [],
   "source": [
    "nodes = {}\n",
    "edges = {}\n",
    "for rel in rel_list:\n",
    "    if rel[2] not in nodes.keys():\n",
    "        nodes[rel[2]] = rel[3]\n",
    "    if rel[4] not in nodes.keys():\n",
    "        nodes[rel[4]] = rel[5]\n",
    "    if tuple([rel[2], rel[4]]) not in edges.keys():\n",
    "        edges[tuple([rel[2], rel[4]])] = [rel[0]]\n",
    "    else:\n",
    "        edges[tuple([rel[2], rel[4]])].append(rel[0])"
   ]
  },
  {
   "cell_type": "code",
   "execution_count": 47,
   "metadata": {},
   "outputs": [],
   "source": [
    "res = {\n",
    "    \"nodes\":[],\n",
    "    \"edges\":[]\n",
    "}\n",
    "for key, value in nodes.items():\n",
    "    res[\"nodes\"].append({\n",
    "        \"id\" : key,\n",
    "        \"name\": value\n",
    "    })\n",
    "for key, value in edges.items():\n",
    "    res[\"edges\"].append({\n",
    "        \"source\" : key[0],\n",
    "        \"target\": key[1],\n",
    "        \"rels\" : value\n",
    "    })"
   ]
  },
  {
   "cell_type": "code",
   "execution_count": 48,
   "metadata": {},
   "outputs": [
    {
     "data": {
      "text/plain": [
       "{'nodes': [{'id': 10500, 'name': 'Abdullah Gül'},\n",
       "  {'id': 13972, 'name': 'University of Exeter'},\n",
       "  {'id': 10903, 'name': 'Bülent Ecevit'},\n",
       "  {'id': 16941, 'name': 'Istanbul University'},\n",
       "  {'id': 20308, 'name': 'Turkey'},\n",
       "  {'id': 19238, 'name': 'Recep Tayyip Erdoğan'},\n",
       "  {'id': 12009, 'name': 'Grand National Assembly of Turkey'}],\n",
       " 'edges': [{'source': 10500, 'target': 13972, 'rels': ['almaMater']},\n",
       "  {'source': 10500, 'target': 10903, 'rels': ['predecessor']},\n",
       "  {'source': 10500, 'target': 16941, 'rels': ['almaMater']},\n",
       "  {'source': 10500, 'target': 20308, 'rels': ['birthPlace']},\n",
       "  {'source': 10500, 'target': 19238, 'rels': ['successor', 'primeminister']},\n",
       "  {'source': 10500, 'target': 12009, 'rels': ['office']},\n",
       "  {'source': 10903, 'target': 20308, 'rels': ['birthPlace', 'deathPlace']},\n",
       "  {'source': 10903, 'target': 10500, 'rels': ['after', 'successor']},\n",
       "  {'source': 10903, 'target': 12009, 'rels': ['office']},\n",
       "  {'source': 16941, 'target': 20308, 'rels': ['country']},\n",
       "  {'source': 20308, 'target': 19238, 'rels': ['caption', 'leaderName']},\n",
       "  {'source': 20308, 'target': 12009, 'rels': ['legislature']},\n",
       "  {'source': 19238, 'target': 20308, 'rels': ['birthPlace']},\n",
       "  {'source': 19238,\n",
       "   'target': 10500,\n",
       "   'rels': ['before', 'president', 'predecessor']},\n",
       "  {'source': 12009, 'target': 20308, 'rels': ['meetingPlace']}]}"
      ]
     },
     "execution_count": 48,
     "metadata": {},
     "output_type": "execute_result"
    }
   ],
   "source": [
    "res"
   ]
  }
 ],
 "metadata": {
  "kernelspec": {
   "display_name": "selfkg",
   "language": "python",
   "name": "python3"
  },
  "language_info": {
   "codemirror_mode": {
    "name": "ipython",
    "version": 3
   },
   "file_extension": ".py",
   "mimetype": "text/x-python",
   "name": "python",
   "nbconvert_exporter": "python",
   "pygments_lexer": "ipython3",
   "version": "3.7.16"
  }
 },
 "nbformat": 4,
 "nbformat_minor": 2
}
