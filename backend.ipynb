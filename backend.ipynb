{
 "cells": [
  {
   "cell_type": "code",
   "execution_count": 1,
   "metadata": {},
   "outputs": [],
   "source": [
    "from backend_utils import *"
   ]
  },
  {
   "cell_type": "code",
   "execution_count": 2,
   "metadata": {},
   "outputs": [],
   "source": [
    "data_loc = \"./data/\"\n",
    "algo = Algo(GWEA(data=EAData(loc=data_loc)))"
   ]
  },
  {
   "cell_type": "code",
   "execution_count": null,
   "metadata": {},
   "outputs": [],
   "source": [
    "algo.get_table_data(0)"
   ]
  },
  {
   "cell_type": "code",
   "execution_count": null,
   "metadata": {},
   "outputs": [],
   "source": [
    "res = algo.get_sim_data(8971)"
   ]
  },
  {
   "cell_type": "code",
   "execution_count": 3,
   "metadata": {},
   "outputs": [],
   "source": [
    "res = algo.get_force_graph_data(0,10500)"
   ]
  },
  {
   "cell_type": "code",
   "execution_count": 6,
   "metadata": {},
   "outputs": [
    {
     "data": {
      "text/plain": [
       "{'nodes': [{'id': 10500, 'name': 'Abdullah Gül'},\n",
       "  {'id': 13972, 'name': 'University of Exeter'},\n",
       "  {'id': 10903, 'name': 'Bülent Ecevit'},\n",
       "  {'id': 16941, 'name': 'Istanbul University'},\n",
       "  {'id': 20308, 'name': 'Turkey'},\n",
       "  {'id': 19238, 'name': 'Recep Tayyip Erdoğan'},\n",
       "  {'id': 12009, 'name': 'Grand National Assembly of Turkey'}],\n",
       " 'edges': [{'source': 10500, 'target': 13972, 'rels': ['almaMater']},\n",
       "  {'source': 10500, 'target': 10903, 'rels': ['predecessor']},\n",
       "  {'source': 10500, 'target': 16941, 'rels': ['almaMater']},\n",
       "  {'source': 10500, 'target': 20308, 'rels': ['birthPlace']},\n",
       "  {'source': 10500, 'target': 19238, 'rels': ['successor', 'primeminister']},\n",
       "  {'source': 10500, 'target': 12009, 'rels': ['office']},\n",
       "  {'source': 10903, 'target': 20308, 'rels': ['birthPlace', 'deathPlace']},\n",
       "  {'source': 10903, 'target': 10500, 'rels': ['after', 'successor']},\n",
       "  {'source': 10903, 'target': 12009, 'rels': ['office']},\n",
       "  {'source': 16941, 'target': 20308, 'rels': ['country']},\n",
       "  {'source': 20308, 'target': 19238, 'rels': ['caption', 'leaderName']},\n",
       "  {'source': 20308, 'target': 12009, 'rels': ['legislature']},\n",
       "  {'source': 19238, 'target': 20308, 'rels': ['birthPlace']},\n",
       "  {'source': 19238,\n",
       "   'target': 10500,\n",
       "   'rels': ['before', 'president', 'predecessor']},\n",
       "  {'source': 12009, 'target': 20308, 'rels': ['meetingPlace']}]}"
      ]
     },
     "execution_count": 6,
     "metadata": {},
     "output_type": "execute_result"
    }
   ],
   "source": [
    "res[1]"
   ]
  },
  {
   "cell_type": "code",
   "execution_count": null,
   "metadata": {},
   "outputs": [],
   "source": [
    "import json \n",
    "with open('res.json','w',encoding=\"UTF-8\") as f:\n",
    "    json.dump(res,f,ensure_ascii=False)"
   ]
  }
 ],
 "metadata": {
  "kernelspec": {
   "display_name": "selfkg",
   "language": "python",
   "name": "python3"
  },
  "language_info": {
   "codemirror_mode": {
    "name": "ipython",
    "version": 3
   },
   "file_extension": ".py",
   "mimetype": "text/x-python",
   "name": "python",
   "nbconvert_exporter": "python",
   "pygments_lexer": "ipython3",
   "version": "3.7.16"
  }
 },
 "nbformat": 4,
 "nbformat_minor": 2
}
