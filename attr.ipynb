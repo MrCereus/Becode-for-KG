{
 "cells": [
  {
   "cell_type": "code",
   "execution_count": 24,
   "metadata": {},
   "outputs": [],
   "source": [
    "from bidict import bidict\n",
    "import numpy as np\n",
    "import pandas as pd\n",
    "import re\n",
    "from sklearn.feature_extraction.text import TfidfVectorizer\n",
    "import nltk"
   ]
  },
  {
   "cell_type": "code",
   "execution_count": 27,
   "metadata": {},
   "outputs": [
    {
     "data": {
      "text/plain": [
       "179"
      ]
     },
     "execution_count": 27,
     "metadata": {},
     "output_type": "execute_result"
    }
   ],
   "source": [
    "len(nltk.corpus.stopwords.words('english'))"
   ]
  },
  {
   "cell_type": "code",
   "execution_count": 21,
   "metadata": {},
   "outputs": [],
   "source": [
    "loc = './data/'\n",
    "attr = {}\n",
    "with open(loc+'attr_triples_1', encoding='UTF-8') as f:\n",
    "    for line in f.readlines():\n",
    "        head, rel, tail = line.strip().split('\\t')[:3]\n",
    "        ent = head.split('resource/')[-1].replace('_', ' ')\n",
    "        prop = rel.split('property/')[-1]\n",
    "        match = re.search(r'\"(.*?)\"', tail)\n",
    "        if match:\n",
    "            val = match.group(1)\n",
    "        else:\n",
    "            val = tail\n",
    "        if ent not in attr.keys():\n",
    "            attr[ent] = val\n",
    "        else:\n",
    "            attr[ent] += \" \" + val\n"
   ]
  },
  {
   "cell_type": "code",
   "execution_count": 43,
   "metadata": {},
   "outputs": [
    {
     "name": "stdout",
     "output_type": "stream",
     "text": [
      "['这是一个', '包含中文和英文', '的句子。']\n"
     ]
    }
   ],
   "source": [
    "# 示例字符串\n",
    "text = \"aaa这是一个aaa包含中文和英文aaa的句子。aaa\"\n",
    "\n",
    "# 使用正则表达式匹配中文字符\n",
    "# \\u4e00-\\u9fff 是常用的大部分汉字的Unicode编码范围\n",
    "# \\u3000-\\u303f 是CJK符号和标点的Unicode编码范围\n",
    "pattern = re.compile(r'[\\u4e00-\\u9fff\\u3000-\\u303f]+')\n",
    "matches = re.findall(pattern, text)\n",
    "\n",
    "print(matches)  # 输出: ['这是', '个', '含', '中文', '和', '英文', '的', '句', '子']"
   ]
  }
 ],
 "metadata": {
  "kernelspec": {
   "display_name": "selfkg",
   "language": "python",
   "name": "python3"
  },
  "language_info": {
   "codemirror_mode": {
    "name": "ipython",
    "version": 3
   },
   "file_extension": ".py",
   "mimetype": "text/x-python",
   "name": "python",
   "nbconvert_exporter": "python",
   "pygments_lexer": "ipython3",
   "version": "3.7.16"
  }
 },
 "nbformat": 4,
 "nbformat_minor": 2
}
